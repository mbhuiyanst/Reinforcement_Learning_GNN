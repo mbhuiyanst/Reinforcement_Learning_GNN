{
 "cells": [
  {
   "cell_type": "code",
   "execution_count": 1,
   "id": "3dfbed4b",
   "metadata": {},
   "outputs": [],
   "source": [
    "import torch\n",
    "import torch.nn as nn\n",
    "import torch.nn.functional as F\n",
    "from torch_geometric.nn import GATConv"
   ]
  },
  {
   "cell_type": "code",
   "execution_count": 2,
   "id": "7100d8f3",
   "metadata": {},
   "outputs": [],
   "source": [
    "class TwoStageAttentionGNN(nn.Module):\n",
    "    def __init__(self, num_nodes, input_dim, hidden_dim, output_dim):\n",
    "        super(TwoStageAttentionGNN, self).__init__()\n",
    "\n",
    "        # Adjust the number of heads and dimensions based on your requirements\n",
    "        self.gat1 = GATConv(input_dim, hidden_dim, heads=4)\n",
    "        self.gat2 = GATConv(hidden_dim * 4, output_dim, heads=1)  # Multiply by the number of heads in the previous layer\n",
    "\n",
    "    def forward(self, x, edge_index):\n",
    "        # First GAT layer\n",
    "        x = F.relu(self.gat1(x, edge_index))\n",
    "\n",
    "        # Second GAT layer with attention mechanism\n",
    "        x = F.relu(self.gat2(x, edge_index))\n",
    "\n",
    "        return x"
   ]
  },
  {
   "cell_type": "code",
   "execution_count": 3,
   "id": "492173fc",
   "metadata": {},
   "outputs": [],
   "source": [
    "# Example usage\n",
    "num_nodes = 10\n",
    "input_dim = 64\n",
    "hidden_dim = 32\n",
    "output_dim = 1\n",
    "\n",
    "# Sample input features and adjacency matrix (edge_index)\n",
    "x = torch.rand((num_nodes, input_dim))\n",
    "edge_index = torch.tensor([(0, 1, 1, 2, 2, 3), (1, 0, 2, 1, 3, 2)], dtype=torch.long)"
   ]
  },
  {
   "cell_type": "code",
   "execution_count": 6,
   "id": "835a9367",
   "metadata": {},
   "outputs": [],
   "source": [
    "# Instantiate the model\n",
    "model = TwoStageAttentionGNN(num_nodes, input_dim, hidden_dim, output_dim)"
   ]
  },
  {
   "cell_type": "code",
   "execution_count": 7,
   "id": "eec2b271",
   "metadata": {},
   "outputs": [
    {
     "name": "stdout",
     "output_type": "stream",
     "text": [
      "tensor([[0.3633],\n",
      "        [0.3679],\n",
      "        [0.4328],\n",
      "        [0.4317],\n",
      "        [0.3886],\n",
      "        [0.5275],\n",
      "        [0.1228],\n",
      "        [0.3104],\n",
      "        [0.4635],\n",
      "        [0.4091]], grad_fn=<ReluBackward0>)\n"
     ]
    }
   ],
   "source": [
    "# Forward pass\n",
    "output = model(x, edge_index)\n",
    "print(output)\n"
   ]
  },
  {
   "cell_type": "code",
   "execution_count": null,
   "id": "1bb9e617",
   "metadata": {},
   "outputs": [],
   "source": []
  }
 ],
 "metadata": {
  "kernelspec": {
   "display_name": "Python 3 (ipykernel)",
   "language": "python",
   "name": "python3"
  },
  "language_info": {
   "codemirror_mode": {
    "name": "ipython",
    "version": 3
   },
   "file_extension": ".py",
   "mimetype": "text/x-python",
   "name": "python",
   "nbconvert_exporter": "python",
   "pygments_lexer": "ipython3",
   "version": "3.11.5"
  }
 },
 "nbformat": 4,
 "nbformat_minor": 5
}
